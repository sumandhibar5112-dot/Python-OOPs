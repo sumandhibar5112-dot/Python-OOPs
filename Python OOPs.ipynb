{
  "nbformat": 4,
  "nbformat_minor": 0,
  "metadata": {
    "colab": {
      "provenance": []
    },
    "kernelspec": {
      "name": "python3",
      "display_name": "Python 3"
    },
    "language_info": {
      "name": "python"
    }
  },
  "cells": [
    {
      "cell_type": "markdown",
      "source": [
        "1.What is Object-Oriented Programming (OOP)?\n",
        "\n",
        "OOP is a programming paradigm, or style of programming, that organizes software design around data or objects, rather than functions and logic.\n",
        "Benefits of OOPS:-\n",
        "Flexibility\n",
        "Modularity\n",
        "Reusability\n",
        "Maintainability\n",
        "FOR EXAMPLE:- You're building a library management system, so you might model a book, a member, and a librarian as objects. The objects will each have properties and methods for example, a book might have properties such as a title, author, and published date, while a member has methods such as the ability to borrow and return books."
      ],
      "metadata": {
        "id": "2O6dOVm3TB2n"
      }
    },
    {
      "cell_type": "markdown",
      "source": [
        "2.What is a class in OOP?\n",
        "\n",
        "The class is a user-defined data structure that combines the methods and data members into a single entity.\n",
        "\n",
        "Classes are sort of like blueprints or templates for code in the production of objects.\n",
        "\n",
        "You can make as many objects as you desire using a class.\n",
        "\n",
        "#syntax of class\n",
        "\n",
        "    class Class_name:\n",
        "      \"\"\"Doc String\"\"\"\n",
        "      statement 1\n",
        "      statement 2\n",
        "\n",
        "\n"
      ],
      "metadata": {
        "id": "m-DjXvJvTCau"
      }
    },
    {
      "cell_type": "markdown",
      "source": [
        "3.What is an object in OOP?\n",
        "\n",
        "Objects are instances of classes.It consists of a set of methods and attributes. Actions are carried out using a class's object.\n",
        "Any object needs to have unique identification. An attribute of an object reflects both the properties and the state of the object."
      ],
      "metadata": {
        "id": "oHuW3zUYTCpv"
      }
    },
    {
      "cell_type": "markdown",
      "source": [
        "4.What is the difference between abstraction and encapsulation?\n",
        "\n",
        "Abstraction and encapsulation are two fundamental concepts in OOPs that work together to create well-structured and maintainable code. While they are often used interchangeably, they have distinct meanings.\n",
        "\n",
        "Abstraction:\n",
        "Abstraction focuses on hiding implementation details aims at delivering only the minimum amount of functionality to ease the user's interaction and avoid complications.\n",
        "This is achieved using abstract classes, interfaces, and abstract methods that describe what a system can do but not how it does it. It's just seeing a car as one piece without having to understand what's inside its parts.\n",
        "\n",
        "Encapusation:\n",
        "Encapsulation focuses on bundling data and methods within a single object ensures that the data is not accessible or modifiable without proper authorization, thus maintaining its integrity and privacy.\n",
        "Access modifiers such as public, private, and protected control the visibility. It is similar to a capsule that keeps the medicine safe and protects it from the environment.\n"
      ],
      "metadata": {
        "id": "GXTYhmwYTQkC"
      }
    },
    {
      "cell_type": "markdown",
      "source": [
        "Q5. What are dunder methods in Python?\n",
        "\n",
        "Dunder methods, also known as magic methods or special methods, in Python are special reserved methods that are surrounded by double underscores, like this:- __method__. These methods allow you to define how instances of your classes behave when they are used with built-in Python functions or operators.\n",
        "\n",
        "Some common dunder methods are:\n",
        "\n",
        "__init__\n",
        "\n",
        "__str__\n",
        "\n",
        "__repr__\n",
        "\n",
        "__add__\n",
        "\n",
        "__len__\n",
        "\n",
        " #you can get all dunder methods associated with strings\n",
        " dir(str)\n",
        "\n",
        " #you can get all dunder methods associated with integers\n",
        " dir(int)\n"
      ],
      "metadata": {
        "id": "ySE6DnzgTTUJ"
      }
    },
    {
      "cell_type": "markdown",
      "source": [
        "6. Explain the concept of inheritance in OOP?\n",
        "\n",
        "Inheritance: Inheritance plays a significant role in an object-oriented programming language.\n",
        "\n",
        "Inheritance in Python refers to the process of a child class receiving the parent class's properties.\n",
        "\n",
        "The reuse of code is inheritance's main goal.\n",
        "\n",
        "Instead of starting from scratch when developing a new class, we can use the existing class instead of re-creating it from scratch.\n",
        "\n",
        "  #synatx of inheritance\n",
        "\n",
        "    class Baseclass:\n",
        "      #body of Baseclass\n",
        "    class Derivedclass(Baseclass):\n",
        "      #body of Derivedclass"
      ],
      "metadata": {
        "id": "GneSdUthTWFI"
      }
    },
    {
      "cell_type": "markdown",
      "source": [
        "Q7. What is polymorphism in OOP?\n",
        "\n",
        "In OOP, polymorphism refers to an object's capacity to assume several forms. Simply said, polymorphism enables us to carry out a single activity in a variety of ways.\n",
        "From the Greek words poly (many) and morphism (forms), we get polymorphism. Polymorphism is the capacity to assume several shapes.\n",
        "In python, polymorphism is achieved through method overloading and method overriding.\n",
        "Method overloading is the practice of invoking the same method more than once with different parameters.\n",
        "Method overriding is the process of providing a different implementation for a method that is already defined in the superclass within a subclass."
      ],
      "metadata": {
        "id": "DajSUwfNUC-t"
      }
    },
    {
      "cell_type": "markdown",
      "source": [
        "Q7. What is polymorphism in OOP?\n",
        "\n",
        "In OOP, polymorphism refers to an object's capacity to assume several forms. Simply said, polymorphism enables us to carry out a single activity in a variety of ways.\n",
        "From the Greek words poly (many) and morphism (forms), we get polymorphism. Polymorphism is the capacity to assume several shapes.\n",
        "In python, polymorphism is achieved through method overloading and method overriding.\n",
        "Method overloading is the practice of invoking the same method more than once with different parameters.\n",
        "Method overriding is the process of providing a different implementation for a method that is already defined in the superclass within a subclass."
      ],
      "metadata": {
        "id": "wom5z8rmUKVD"
      }
    },
    {
      "cell_type": "markdown",
      "source": [
        "Q8. How is encapsulation achieved in Python?\n",
        "\n",
        "Encapsulation is a Python technique for combining data and functions into a single object. A class, for instance, contains all the data i.e. methods and variables\n",
        "\n",
        "A class's data members and methods can be made private or protected in order to achieve encapsulation. Direct access modifiers like public, private and protected don't exist in Python. Though Single and double underscores can be used to accomplish this.\n",
        "\n",
        "The three different access modifier types that Python offers are:-\n",
        "\n",
        "Public member: from outside of class, anywhere accessible.\n",
        "Private member: Within the class, accessible.\n",
        "Protected member: Within the class and its subclasses, accessible."
      ],
      "metadata": {
        "id": "EzintqxyULjl"
      }
    },
    {
      "cell_type": "markdown",
      "source": [
        "Q9. What is a constructor in Python?\n",
        "\n",
        "A constructor is a particular method used in object-oriented programming to generate and initialise an object of a class. In the class, this method is defined.\n",
        "\n",
        "A constructor is a special method within a class that is automatically called when an object of that class is created.\n",
        "\n",
        "  #synatx of constructor\n",
        "\n",
        "  def __int__(self):\n",
        "    #body of constructor\n",
        "Types of constructor:\n",
        "\n",
        "Default constructor: If no constructor is defined, Python will provide a default constructor.\n",
        "Non-Parametrized constructor: Non-parameterized constructors are those that take no parameters.\n",
        "Parametrized constructor: A parameterized constructor is one with specified arguments or parameters."
      ],
      "metadata": {
        "id": "CBo3lWfqUN1m"
      }
    },
    {
      "cell_type": "markdown",
      "source": [
        "Q10. What are class and static methods in Python?\n",
        "\n",
        "Class methods:\n",
        "\n",
        "Class methods are methods that are bound to the class and not the instance of the class. They can access or modify class state that applies across all instances of the class. Class methods are defined using the @classmethod decorator.\n",
        "\n",
        "#syntax\n",
        "\n",
        "  class ClassName(object):\n",
        "  @classmethod\n",
        "  def method(cls, arg1, arg2, ...):\n",
        "    ....\n",
        "Static methods:\n",
        "\n",
        "Static methods are methods that belong to the class and don't access or modify class or instance state. They are defined using the @staticmethod decorator.\n",
        "\n",
        "#syntax\n",
        "  class ClassName(object):\n",
        "  @staticmethod\n",
        "  def method(arg1, arg2, ...):\n",
        "    ...."
      ],
      "metadata": {
        "id": "WZYdZeNnURKo"
      }
    },
    {
      "cell_type": "markdown",
      "source": [
        "Q11. What is method overloading in Python?\n",
        "\n",
        "Two or more methods have the same name but different numbers of parameters or different types of parameters, or both. These methods are called overloaded methods and this is called method overloading.\n",
        "\n",
        "    #Example\n",
        "\n",
        "      class Calculator:\n",
        "        def add(self, *args):\n",
        "            result = 0\n",
        "            for num in args:\n",
        "                result += num\n",
        "            return result\n",
        "\n",
        "      calc = Calculator()\n",
        "      print(calc.add(2, 3))  # Output: 5\n",
        "      print(calc.add(1, 2, 3, 4))  # Output: 10"
      ],
      "metadata": {
        "id": "7zqlcc50UWB8"
      }
    },
    {
      "cell_type": "markdown",
      "source": [
        "Q12. What is method overriding in OOP?\n",
        "\n",
        "Method overriding is an ability of any object-oriented programming language that allows a subclass or child class to provide a specific implementation of a method that is already provided by one of its super-classes or parent classes.\n",
        "\n",
        "    #Example\n",
        "      class Animal:\n",
        "        def make_sound(self):\n",
        "            print(\"Generic animal sound\")\n",
        "\n",
        "      class Dog(Animal):\n",
        "        def make_sound(self):\n",
        "            print(\"Woof!\")\n",
        "\n",
        "      # Create an object of the Dog class\n",
        "      my_dog = Dog()\n",
        "\n",
        "      # Call the make_sound() method on the Dog object\n",
        "      my_dog.make_sound()  # Output: Woof!"
      ],
      "metadata": {
        "id": "6FKa4eY1Uecw"
      }
    },
    {
      "cell_type": "markdown",
      "source": [
        "Q13. What is a property decorator in Python?\n",
        "\n",
        "In Python, a property decorator is a powerful tool that allows you to define class attributes as if they were regular attributes while actually controlling their access and behavior behind the scenes.\n",
        "Benefits of using property decorator are:\n",
        "Data validation\n",
        "Flexibility\n",
        "Readability\n",
        "Property decorators provide a clean and elegant way to manage attribute access in Python classes. By using property decorators effectively, you can create more robust and well-structured object-oriented code because they enhance code readability, maintainability, and data integrity."
      ],
      "metadata": {
        "id": "9B9Ad2FjUn1J"
      }
    },
    {
      "cell_type": "markdown",
      "source": [
        "Q14. Why is polymorphism important in OOP?\n",
        "\n",
        "Polymorphism is a core concept in Object-Oriented Programming (OOP) that enables a single interface or method to operate differently based on the object it is acting upon.\n",
        "\n",
        "Importance of polymorphism:\n",
        "\n",
        "Code Reusability: This reduces code duplication and enhances reusability.\n",
        "Flexibility and Extensibility: This makes it easier to extend and maintain systems over time.\n",
        "Simplified Code: Polymorphism simplifies code by allowing developers to use common interfaces for different types, which leads to cleaner and more readable code.\n",
        "Dynamic Behavior: Polymorphism supports dynamic method invocation enabling decisions to be made at runtime about which method to call."
      ],
      "metadata": {
        "id": "9SeYe9O-UqZx"
      }
    },
    {
      "cell_type": "markdown",
      "source": [
        "Q15. What is an abstract class in Python?\n",
        "\n",
        "An abstract class is a class that cannot be instantiated directly. It serves as a blueprint or template for other classes, defining a common interface and enforcing a specific structure."
      ],
      "metadata": {
        "id": "hWC_nOAQUufk"
      }
    },
    {
      "cell_type": "markdown",
      "source": [
        "Q16. What are the advantages of OOP?\n",
        "\n",
        "The advantages of OOPs are:\n",
        "\n",
        "Reusability: This promotes code reuse, reducing development time and effort.\n",
        "Flexibility: This makes the code more adaptable to changes and easier to extend with new features.\n",
        "Improved Code Readability: OOP promotes a more organized and structured approach to coding, making it easier for developers to understand and maintain the codebase.\n",
        "Collaboration: OOP facilitates collaboration among developers by providing a clear and well-defined structure for organizing code.\n",
        "Real-World Modeling: OOP allows you to model real-world entities and their relationships in a natural and intuitive way."
      ],
      "metadata": {
        "id": "JmBYMlxVUxKm"
      }
    },
    {
      "cell_type": "markdown",
      "source": [
        "Q17. What is the difference between a class variable and an instance variable?\n",
        "\n",
        "Class variable:\n",
        "\n",
        "Class Variables Shared among all instances: Class variables are shared by all objects created from the same class.\n",
        "Defined within the class: They are defined within the class but outside any method.\n",
        "Accessed using the class name: Accessed using the class name followed by the dot operator like this:- ClassName.variable_name\n",
        "Instance variable:\n",
        "\n",
        "Unique to each instance: Instance variables are specific to each object created from the class.\n",
        "Defined within the constructor __init__ or other methods: Usually defined within the __init__ method.\n",
        "Accessed using the object name: Accessed using the object name followed by the dot operator like this:- object_name.variable_name"
      ],
      "metadata": {
        "id": "kGdgZ7CzUyUg"
      }
    },
    {
      "cell_type": "markdown",
      "source": [
        "Q18. What is multiple inheritance in Python?\n",
        "\n",
        "In Multiple inheritance One child class may inherit from several parent classes when there is multiple inheritance.\n",
        "\n",
        "Multiple inheritance allows classes to inherit and combine the behavior of multiple parent classes, providing flexibility in designing complex class hierarchies. However, it's important to carefully consider the design and potential complexities that can arise when using multiple inheritance.\n",
        "\n",
        "                          ---------- Parent Class 1\n",
        "      Child class --------       \n",
        "                          ---------- Parent Class 2"
      ],
      "metadata": {
        "id": "BH39CgVWU0_w"
      }
    },
    {
      "cell_type": "markdown",
      "source": [
        "Q19.Explain the purpose of __str__ and __repr__ methods in Python?\n",
        "\n",
        "In Python, __str__ and __repr__ are dunder methods used to control how objects are represented as strings.\n",
        "__str__(self): This method is called when the str() function is used on an instance of the class. It should return a string representation of the object.\n",
        "\n",
        "  #example\n",
        "\n",
        "    class Myclass:\n",
        "      def __init__(self, x):\n",
        "        self.x = x\n",
        "      def __str__(self):\n",
        "        return f'Myclass instance with x = {self.x}'\n",
        "    obj = Myclass(10)\n",
        "    print(str(obj))\n",
        "\n",
        "  #output\n",
        "\n",
        "  Myclass instance with x = 10\n",
        "__repr__(self): This method is called when the repr() function is used on an instance of the class. It should return an unambiguous string representation of the object, which can be used to recreate the object.\n",
        "\n",
        "  #example\n",
        "\n",
        "    class Myclass:\n",
        "      def __init__(self, x):\n",
        "        self.x = x\n",
        "      def __repr__(self):\n",
        "        return f'Myclass ({self.x})'\n",
        "    obj = Myclass(10)\n",
        "    print(repr(obj))\n",
        "\n",
        "  #output\n",
        "\n",
        "  Myclass (10)"
      ],
      "metadata": {
        "id": "x9BglUnsU3Q0"
      }
    },
    {
      "cell_type": "markdown",
      "source": [
        "Q20. What is the significance of the super() function in Python?\n",
        "\n",
        "The super() function is essential in Python for managing inheritance. It simplifies code, promotes reusability, and ensures proper initialization and method resolution in complex inheritance scenarios. It is particularly powerful in systems with multiple inheritance or dynamic class hierarchies.\n",
        "\n",
        "Benefits of super() function:-\n",
        "\n",
        "Accessing Parent Class Methods and Attributes\n",
        "Avoiding Explicit Parent Class Names\n",
        "Working with Multiple Inheritance\n",
        "Code Reusability"
      ],
      "metadata": {
        "id": "qV8aD67GU7RP"
      }
    },
    {
      "cell_type": "markdown",
      "source": [
        "Q21. What is the significance of the __del__ method in Python?\n",
        "\n",
        "The __del__ method in Python is a special method, also known as the destructor, which is called when an object is about to be destroyed. Its primary purpose is to define cleanup actions that need to occur before the object's memory is deallocated by the garbage collector.\n",
        "\n",
        "Use of __del__ method:-\n",
        "\n",
        "Cleanup Operations: The primary purpose of __del__ is to perform any necessary cleanup operations before an object is permanently removed from memory.\n",
        "Closing files that the object was using.\n",
        "Releasing external resources like:- network connections or database connections.\n",
        "Performing any other necessary cleanup tasks."
      ],
      "metadata": {
        "id": "12OrawblVE1h"
      }
    },
    {
      "cell_type": "markdown",
      "source": [
        "Q22. What is the difference between @staticmethod and @classmethod in Python?\n",
        "\n",
        "@staticmethod:\n",
        "\n",
        "No Implicit First Argument: It does not take any implicit first argument (like self or cls).\n",
        "No Access to Class or Instance: It cannot access or modify instance-level (self) or class-level (cls) data.\n",
        "Utility Functions: Primarily used for utility functions that logically belong to the class but don't need to access class or instance-specific data.\n",
        "Inheritance: Static methods can be inherited and overridden by subclasses.\n",
        "Called on Class or Instance: Can be called on both the class and its instances.\n",
        "@classmethod:\n",
        "\n",
        "Implicit First Argument (cls): It takes the class (cls) as the first argument.\n",
        "Access to Class Data: It has access to class-level data and can modify class-level attributes.\n",
        "Alternative Constructors: Often used for defining alternative constructors or methods that operate on the class rather than an instance.\n",
        "Inheritance: Class methods can be inherited and overridden by subclasses, and they will receive the subclass as cls when called from an instance.\n",
        "Called on Class or Instance: Can be called on both the class and its instances, but always receives the class as the first argument."
      ],
      "metadata": {
        "id": "XVBZrHjuVG52"
      }
    },
    {
      "cell_type": "markdown",
      "source": [
        "Q23. How does polymorphism work in Python with inheritance?\n",
        "\n",
        "Polymorphism, in the context of object-oriented programming, allows objects of different classes to be treated as objects of a common type. In Python, inheritance plays a crucial role in achieving polymorphism.\n",
        "\n",
        "      #Example\n",
        "        class Animal:\n",
        "            def make_sound(self):\n",
        "                pass\n",
        "\n",
        "        class Dog(Animal):\n",
        "            def make_sound(self):\n",
        "                print(\"Woof!\")\n",
        "\n",
        "        class Cat(Animal):\n",
        "            def make_sound(self):\n",
        "                print(\"Meow!\")\n",
        "\n",
        "        def animal_sounds(animals):\n",
        "            for animal in animals:\n",
        "                animal.make_sound()\n",
        "\n",
        "        animals = [Dog(), Cat()]\n",
        "        animal_sounds(animals)\n",
        "\n",
        "      #output\n",
        "\n",
        "        Woof!\n",
        "        Meow!"
      ],
      "metadata": {
        "id": "Utb74wT7VJ84"
      }
    },
    {
      "cell_type": "markdown",
      "source": [
        "Q24. What is method chaining in Python OOP?\n",
        "\n",
        "Method chaining is a powerful technique in Python that allows you to call multiple methods on an object in a single, continuous line of code. This approach makes the code cleaner, more readable, and often easier to maintain.\n",
        "\n",
        "Benefits of method chaining in python are:\n",
        "\n",
        "Improved Readability\n",
        "\n",
        "Enhanced Fluency\n",
        "\n",
        "Reduced Boilerplate\n",
        "\n",
        "    #Example\n",
        "\n",
        "      class Car:\n",
        "          def __init__(self, color):\n",
        "              self.color = color\n",
        "\n",
        "          def start(self):\n",
        "              print(\"Car started.\")\n",
        "              return self  # Return the object itself\n",
        "\n",
        "          def accelerate(self):\n",
        "              print(\"Car accelerating.\")\n",
        "              return self\n",
        "\n",
        "          def brake(self):\n",
        "              print(\"Car braking.\")\n",
        "              return self\n",
        "\n",
        "      my_car = Car(\"red\")\n",
        "      my_car.start().accelerate().brake()\n",
        "\n",
        "    #output\n",
        "\n",
        "      Car started.\n",
        "      Car accelerating.\n",
        "      Car braking."
      ],
      "metadata": {
        "id": "eBDqitJOVOlv"
      }
    },
    {
      "cell_type": "markdown",
      "source": [
        "Q25. What is the purpose of the __call__ method in Python?\n",
        "\n",
        "The __call__ method in Python allows an instance of a class to be called as if it were a function. This means that you can make objects of a class behave like callable functions. When you define the __call__ method in a class, you enable instances of that class to be invoked using parentheses, just like a function.\n",
        "Purpose:\n",
        "Making Objects Callable: Allows instances of a class to be called like a function using parentheses ().\n",
        "Custom Behavior: Enables defining custom logic that runs when the object is called.\n",
        "Dynamic Dispatch: Facilitates dynamic behavior changes, like handling different arguments or performing computations based on the call.\n",
        "Functionality Encapsulation: Lets you encapsulate behavior inside an object, making the object more versatile."
      ],
      "metadata": {
        "id": "XeIx42gJVPXw"
      }
    },
    {
      "cell_type": "code",
      "source": [
        "# Q1.  Create a parent class Animal with a method speak() that prints a generic message. Create a child class Dog\n",
        "# that overrides the speak() method to print \"Bark!\"\n",
        "\n",
        "# Answere:-1\n",
        "\n",
        "class Animal:\n",
        "    def speak(self):\n",
        "        print(\"Some generic sound\")\n",
        "class Dog(Animal):\n",
        "    def speak(self):\n",
        "        print(\"Bark!\")\n",
        "\n",
        "generic_animal = Animal()\n",
        "dog = Dog()\n",
        "\n",
        "generic_animal.speak()\n",
        "dog.speak()"
      ],
      "metadata": {
        "colab": {
          "base_uri": "https://localhost:8080/"
        },
        "id": "7bqFidoaVlzA",
        "outputId": "59cf5903-7169-4ce7-b2f2-4641db861027"
      },
      "execution_count": 3,
      "outputs": [
        {
          "output_type": "stream",
          "name": "stdout",
          "text": [
            "Some generic sound\n",
            "Bark!\n"
          ]
        }
      ]
    },
    {
      "cell_type": "code",
      "source": [
        "#Q2.Practical question\n",
        "'''\n",
        "Q2. Write a program to create an abstract class Shape with a method area(). Derive classes Circle and Rectangle\n",
        "from it and implement the area() method in both.\n",
        "\n",
        "'''\n",
        "'''\n",
        "Answere:-2\n",
        "'''\n",
        "from abc import ABC, abstractmethod\n",
        "import math\n",
        "\n",
        "class Shape(ABC):\n",
        "    @abstractmethod\n",
        "    def area(self):\n",
        "        pass\n",
        "\n",
        "class Circle(Shape):\n",
        "    def __init__(self, radius):\n",
        "        self.radius = radius\n",
        "\n",
        "    def area(self):\n",
        "        return math.pi * self.radius**2\n",
        "\n",
        "class Rectangle(Shape):\n",
        "    def __init__(self, width, height):\n",
        "        self.width = width\n",
        "        self.height = height\n",
        "\n",
        "    def area(self):\n",
        "        return self.width * self.height\n",
        "\n",
        "circle = Circle(5)\n",
        "print(\"Circle area:\", circle.area())\n",
        "\n",
        "rectangle = Rectangle(4, 6)\n",
        "print(\"Rectangle area:\", rectangle.area())"
      ],
      "metadata": {
        "colab": {
          "base_uri": "https://localhost:8080/"
        },
        "id": "Zl2qy7h7Vvp_",
        "outputId": "0841e042-fec9-4ce4-b751-1c27654c72f6"
      },
      "execution_count": 4,
      "outputs": [
        {
          "output_type": "stream",
          "name": "stdout",
          "text": [
            "Circle area: 78.53981633974483\n",
            "Rectangle area: 24\n"
          ]
        }
      ]
    },
    {
      "cell_type": "code",
      "source": [
        "#Q3.Practical question\n",
        "'''\n",
        "Q3. Implement a multi-level inheritance scenario where a class Vehicle has an attribute type. Derive a class Car\n",
        "and further derive a class ElectricCar that adds a battery attribute.\n",
        "\n",
        "'''\n",
        "'''\n",
        "Answere:-3\n",
        "'''\n",
        "class Vehicle:\n",
        "    def __init__(self, vehicle_type):\n",
        "        self.vehicle_type = vehicle_type\n",
        "\n",
        "class Car(Vehicle):\n",
        "    def __init__(self, vehicle_type, brand, model):\n",
        "        super().__init__(vehicle_type)\n",
        "        self.brand = brand\n",
        "        self.model = model\n",
        "\n",
        "class ElectricCar(Car):\n",
        "    def __init__(self, vehicle_type, brand, model, battery_capacity):\n",
        "        super().__init__(vehicle_type, brand, model)\n",
        "        self.battery_capacity = battery_capacity\n",
        "\n",
        "#i'm using `\\n` to print all the details in new line\n",
        "    def display_info(self):\n",
        "        return (f\"Type: {self.vehicle_type},\\nBrand: {self.brand},\\nModel: {self.model}, \"\n",
        "                f\"\\nBattery Capacity: {self.battery_capacity} kWh\")\n",
        "\n",
        "electric_car = ElectricCar(\"Electric\", \"Tesla\", \"Model S\", 100)\n",
        "\n",
        "print(electric_car.display_info())\n",
        ""
      ],
      "metadata": {
        "colab": {
          "base_uri": "https://localhost:8080/"
        },
        "id": "9vvYK-IeV0hG",
        "outputId": "b6429efd-ba4e-429c-844f-c437a05ee26d"
      },
      "execution_count": 5,
      "outputs": [
        {
          "output_type": "stream",
          "name": "stdout",
          "text": [
            "Type: Electric,\n",
            "Brand: Tesla,\n",
            "Model: Model S, \n",
            "Battery Capacity: 100 kWh\n"
          ]
        }
      ]
    },
    {
      "cell_type": "code",
      "source": [
        "#Q4.Demonstrate polymorphism by creating a base class Bird with a method fly(). Create two derived classesSparrow and Penguin that override the fly() method.\n",
        "\"\"\"\n",
        "This program demonstrates polymorphism using a base class Bird\n",
        "and two derived classes, Sparrow and Penguin.\n",
        "\"\"\"\n",
        "\n",
        "class Bird:\n",
        "    \"\"\"\n",
        "    A base class for all birds, with a generic fly method.\n",
        "    \"\"\"\n",
        "    def fly(self):\n",
        "        \"\"\"\n",
        "        A generic method to describe the flying behavior of a bird.\n",
        "        \"\"\"\n",
        "        print(\"The bird flies through the air.\")\n",
        "\n",
        "class Sparrow(Bird):\n",
        "    \"\"\"\n",
        "    A specific type of bird that overrides the fly method.\n",
        "    \"\"\"\n",
        "    def fly(self):\n",
        "        \"\"\"\n",
        "        Overrides the base class method to describe how a sparrow flies.\n",
        "        \"\"\"\n",
        "        print(\"The sparrow flutters its wings and takes to the sky.\")\n",
        "\n",
        "class Penguin(Bird):\n",
        "    \"\"\"\n",
        "    Another type of bird that overrides the fly method.\n",
        "    \"\"\"\n",
        "    def fly(self):\n",
        "        \"\"\"\n",
        "        Overrides the base class method to indicate that a penguin cannot fly.\n",
        "        \"\"\"\n",
        "        print(\"The penguin cannot fly. It waddles on the ground.\")\n",
        "\n",
        "\n",
        "\n",
        "def make_it_fly(bird):\n",
        "    \"\"\"\n",
        "    A function that takes any object of the Bird class (or a subclass)\n",
        "    and calls its fly() method. This is where polymorphism is demonstrated.\n",
        "    \"\"\"\n",
        "    print(f\"Calling fly() on a {type(bird).__name__} object:\")\n",
        "    bird.fly()\n",
        "    print(\"-\" * 20)\n",
        "\n",
        "sparrow = Sparrow()\n",
        "penguin = Penguin()\n",
        "generic_bird = Bird()\n",
        "\n",
        "\n",
        "make_it_fly(sparrow)\n",
        "make_it_fly(penguin)\n",
        "make_it_fly(generic_bird)\n"
      ],
      "metadata": {
        "colab": {
          "base_uri": "https://localhost:8080/"
        },
        "id": "jYRDGf0kW9Zq",
        "outputId": "6c201db3-44ab-42b9-b8e6-74b9054cba7f"
      },
      "execution_count": 1,
      "outputs": [
        {
          "output_type": "stream",
          "name": "stdout",
          "text": [
            "Calling fly() on a Sparrow object:\n",
            "The sparrow flutters its wings and takes to the sky.\n",
            "--------------------\n",
            "Calling fly() on a Penguin object:\n",
            "The penguin cannot fly. It waddles on the ground.\n",
            "--------------------\n",
            "Calling fly() on a Bird object:\n",
            "The bird flies through the air.\n",
            "--------------------\n"
          ]
        }
      ]
    },
    {
      "cell_type": "code",
      "source": [
        "#Q5.Write a program to demonstrate encapsulation by creating a class BankAccount with private attributesbalance and methods to deposit, withdraw, and check balance.\n",
        "\"\"\"\n",
        "This program demonstrates the concept of encapsulation in Python\n",
        "by creating a BankAccount class.\n",
        "\"\"\"\n",
        "\n",
        "class BankAccount:\n",
        "    \"\"\"\n",
        "    A class to represent a bank account, demonstrating encapsulation.\n",
        "\n",
        "    The account balance is a private attribute, accessible only\n",
        "    through the public methods provided.\n",
        "    \"\"\"\n",
        "\n",
        "    def __init__(self, initial_balance=0):\n",
        "        \"\"\"\n",
        "        Initializes the BankAccount with a private balance.\n",
        "\n",
        "        Args:\n",
        "            initial_balance (float): The starting balance for the account.\n",
        "        \"\"\"\n",
        "\n",
        "        self._balance = initial_balance\n",
        "\n",
        "    def deposit(self, amount):\n",
        "        \"\"\"\n",
        "        Deposits a specified amount into the account.\n",
        "\n",
        "        Args:\n",
        "            amount (float): The amount to deposit. Must be positive.\n",
        "        \"\"\"\n",
        "        if amount > 0:\n",
        "            self._balance += amount\n",
        "            print(f\"Deposited ${amount:.2f}. New balance is ${self._balance:.2f}.\")\n",
        "        else:\n",
        "            print(\"Deposit amount must be positive.\")\n",
        "\n",
        "    def withdraw(self, amount):\n",
        "        \"\"\"\n",
        "        Withdraws a specified amount from the account.\n",
        "\n",
        "        Args:\n",
        "            amount (float): The amount to withdraw. Must be positive and not\n",
        "                          exceed the current balance.\n",
        "        \"\"\"\n",
        "        if amount > 0:\n",
        "            if self._balance >= amount:\n",
        "                self._balance -= amount\n",
        "                print(f\"Withdrew ${amount:.2f}. New balance is ${self._balance:.2f}.\")\n",
        "            else:\n",
        "                print(\"Insufficient funds.\")\n",
        "        else:\n",
        "            print(\"Withdrawal amount must be positive.\")\n",
        "\n",
        "    def get_balance(self):\n",
        "        \"\"\"\n",
        "        Returns the current balance of the account.\n",
        "\n",
        "        This is a public method to access the private attribute.\n",
        "        \"\"\"\n",
        "        return self._balance\n",
        "\n",
        "\n",
        "\n",
        "\n",
        "my_account = BankAccount(1000)\n",
        "\n",
        "print(\"--- Initial State ---\")\n",
        "print(f\"Current balance: ${my_account.get_balance():.2f}\")\n",
        "\n",
        "\n",
        "\n",
        "print(\"\\n--- Performing Transactions ---\")\n",
        "\n",
        "\n",
        "my_account.deposit(500)\n",
        "\n",
        "\n",
        "my_account.withdraw(200)\n",
        "\n",
        "\n",
        "my_account.withdraw(1500)\n",
        "\n",
        "\n",
        "my_account.withdraw(-50)\n",
        "\n",
        "print(\"\\n--- Final State ---\")\n",
        "\n",
        "print(f\"Final balance: ${my_account.get_balance():.2f}\")"
      ],
      "metadata": {
        "colab": {
          "base_uri": "https://localhost:8080/"
        },
        "id": "8baT_jiFXW9A",
        "outputId": "de1146d9-ebe9-4ea0-dfc8-f53574dcbfa3"
      },
      "execution_count": 15,
      "outputs": [
        {
          "output_type": "stream",
          "name": "stdout",
          "text": [
            "--- Initial State ---\n",
            "Current balance: $1000.00\n",
            "\n",
            "--- Performing Transactions ---\n",
            "Deposited $500.00. New balance is $1500.00.\n",
            "Withdrew $200.00. New balance is $1300.00.\n",
            "Insufficient funds.\n",
            "Withdrawal amount must be positive.\n",
            "\n",
            "--- Final State ---\n",
            "Final balance: $1300.00\n"
          ]
        }
      ]
    },
    {
      "cell_type": "code",
      "source": [
        "#Q6.Demonstrate runtime polymorphism using a method play() in a base class Instrument. Derive classes Guitarand Piano that implement their own version of play()\n",
        "\"\"\"\n",
        "This program demonstrates runtime polymorphism using a base class Instrument\n",
        "and two derived classes, Guitar and Piano.\n",
        "\"\"\"\n",
        "\n",
        "class Instrument:\n",
        "    \"\"\"\n",
        "    A base class for all musical instruments.\n",
        "    \"\"\"\n",
        "    def play(self):\n",
        "        \"\"\"\n",
        "        A generic method to describe how an instrument is played.\n",
        "        This method is meant to be overridden by derived classes.\n",
        "        \"\"\"\n",
        "        print(\"An instrument is making a sound.\")\n",
        "\n",
        "class Guitar(Instrument):\n",
        "    \"\"\"\n",
        "    A specific type of instrument that plays music by strumming strings.\n",
        "    \"\"\"\n",
        "    def play(self):\n",
        "        \"\"\"\n",
        "        Overrides the base class method to describe how a guitar is played.\n",
        "        \"\"\"\n",
        "        print(\"The guitar is being strummed and is playing a chord.\")\n",
        "\n",
        "class Piano(Instrument):\n",
        "    \"\"\"\n",
        "    Another type of instrument that plays music by pressing keys.\n",
        "    \"\"\"\n",
        "    def play(self):\n",
        "        \"\"\"\n",
        "        Overrides the base class method to describe how a piano is played.\n",
        "        \"\"\"\n",
        "        print(\"The piano keys are being pressed and are playing a melody.\")\n",
        "\n",
        "\n",
        "\n",
        "def make_music(instrument):\n",
        "    \"\"\"\n",
        "    A function that takes any object of the Instrument class (or a subclass)\n",
        "    and calls its play() method. This is where polymorphism is demonstrated,\n",
        "    as the behavior depends on the object type at runtime.\n",
        "    \"\"\"\n",
        "    print(f\"Calling play() on a {type(instrument).__name__} object:\")\n",
        "    instrument.play()\n",
        "    print(\"-\" * 30)\n",
        "\n",
        "my_guitar = Guitar()\n",
        "my_piano = Piano()\n",
        "generic_instrument = Instrument()\n",
        "\n",
        "\n",
        "make_music(my_guitar)\n",
        "make_music(my_piano)\n",
        "make_music(generic_instrument)\n"
      ],
      "metadata": {
        "colab": {
          "base_uri": "https://localhost:8080/"
        },
        "id": "SuprszwKX3i4",
        "outputId": "4e379d15-a103-418f-9108-29df65f75369"
      },
      "execution_count": 16,
      "outputs": [
        {
          "output_type": "stream",
          "name": "stdout",
          "text": [
            "Calling play() on a Guitar object:\n",
            "The guitar is being strummed and is playing a chord.\n",
            "------------------------------\n",
            "Calling play() on a Piano object:\n",
            "The piano keys are being pressed and are playing a melody.\n",
            "------------------------------\n",
            "Calling play() on a Instrument object:\n",
            "An instrument is making a sound.\n",
            "------------------------------\n"
          ]
        }
      ]
    },
    {
      "cell_type": "code",
      "source": [
        "#Q7.Create a class MathOperations with a class method add_numbers() to add two numbers and a staticmethod subtract_numbers() to subtract two numbers.\n",
        "\"\"\"\n",
        "This program demonstrates the use of class methods and static methods in Python.\n",
        "\"\"\"\n",
        "\n",
        "class MathOperations:\n",
        "    \"\"\"\n",
        "    A class containing methods to perform basic mathematical operations.\n",
        "    It includes a class method and a static method to illustrate their differences.\n",
        "    \"\"\"\n",
        "\n",
        "    @classmethod\n",
        "    def add_numbers(cls, a, b):\n",
        "        \"\"\"\n",
        "        A class method to add two numbers.\n",
        "\n",
        "        Class methods are bound to the class and receive the class itself as\n",
        "        the first argument (cls). They are commonly used for factory methods\n",
        "        or to perform operations on class-level attributes.\n",
        "        \"\"\"\n",
        "        print(f\"Adding numbers using a class method...\")\n",
        "        return a + b\n",
        "\n",
        "    @staticmethod\n",
        "    def subtract_numbers(a, b):\n",
        "        \"\"\"\n",
        "        A static method to subtract one number from another.\n",
        "\n",
        "        Static methods are not bound to the class or an instance. They behave\n",
        "        like regular functions but are contained within the class's namespace.\n",
        "        They don't have access to the class (cls) or instance (self) state.\n",
        "        \"\"\"\n",
        "        print(f\"Subtracting numbers using a static method...\")\n",
        "        return a - b\n",
        "\n",
        "\n",
        "\n",
        "print(\"--- Calling Class Method ---\")\n",
        "\n",
        "sum_result = MathOperations.add_numbers(10, 5)\n",
        "print(f\"10 + 5 = {sum_result}\")\n",
        "\n",
        "\n",
        "math_instance = MathOperations()\n",
        "sum_result_2 = math_instance.add_numbers(20, 15)\n",
        "print(f\"20 + 15 = {sum_result_2}\")\n",
        "\n",
        "print(\"\\n--- Calling Static Method ---\")\n",
        "\n",
        "diff_result = MathOperations.subtract_numbers(50, 20)\n",
        "print(f\"50 - 20 = {diff_result}\")\n",
        "\n",
        "\n",
        "diff_result_2 = math_instance.subtract_numbers(100, 30)\n",
        "print(f\"100 - 30 = {diff_result_2}\")"
      ],
      "metadata": {
        "colab": {
          "base_uri": "https://localhost:8080/"
        },
        "id": "JnPqj3YJYJrC",
        "outputId": "823dd316-9328-4919-8c27-f665ac3e2dea"
      },
      "execution_count": 17,
      "outputs": [
        {
          "output_type": "stream",
          "name": "stdout",
          "text": [
            "--- Calling Class Method ---\n",
            "Adding numbers using a class method...\n",
            "10 + 5 = 15\n",
            "Adding numbers using a class method...\n",
            "20 + 15 = 35\n",
            "\n",
            "--- Calling Static Method ---\n",
            "Subtracting numbers using a static method...\n",
            "50 - 20 = 30\n",
            "Subtracting numbers using a static method...\n",
            "100 - 30 = 70\n"
          ]
        }
      ]
    },
    {
      "cell_type": "code",
      "source": [
        "#Q8. Implement a class Person with a class method to count the total number of persons created.\n",
        "class Person:\n",
        "\n",
        "    _total_persons_created = 0\n",
        "\n",
        "    def __init__(self, name, age):\n",
        "        \"\"\"\n",
        "        The constructor for the Person class.\n",
        "        It increments the class variable every time a new instance is created.\n",
        "        \"\"\"\n",
        "        self.name = name\n",
        "        self.age = age\n",
        "\n",
        "        Person._total_persons_created += 1\n",
        "\n",
        "\n",
        "    @classmethod\n",
        "    def get_total_persons(cls):\n",
        "        \"\"\"\n",
        "        A class method that returns the total number of Person objects created.\n",
        "\n",
        "        The 'cls' parameter refers to the class itself (Person).\n",
        "        \"\"\"\n",
        "        return cls._total_persons_created\n",
        "\n",
        "print(f\"Initial count: {Person.get_total_persons()}\") # Output: 0\n",
        "\n",
        "\n",
        "person1 = Person(\"Alice\", 30)\n",
        "person2 = Person(\"Bob\", 25)\n",
        "print(f\"Count after two persons: {Person.get_total_persons()}\") # Output: 2\n",
        "\n",
        "person3 = Person(\"Charlie\", 40)\n",
        "person4 = Person(\"Diana\", 35)\n",
        "print(f\"Count after four persons: {Person.get_total_persons()}\") # Output: 4\n",
        "\n",
        "\n",
        "print(f\"Count via an instance (person1): {person1.get_total_persons()}\") # Output: 4"
      ],
      "metadata": {
        "colab": {
          "base_uri": "https://localhost:8080/"
        },
        "id": "QiioXtaPQNJr",
        "outputId": "efa4fc6e-a6de-4791-d0ea-b9086ecd5952"
      },
      "execution_count": 2,
      "outputs": [
        {
          "output_type": "stream",
          "name": "stdout",
          "text": [
            "Initial count: 0\n",
            "Count after two persons: 2\n",
            "Count after four persons: 4\n",
            "Count via an instance (person1): 4\n"
          ]
        }
      ]
    },
    {
      "cell_type": "code",
      "source": [
        "#Q9. Write a class Fraction with attributes numerator and denominator. Override the str method to display thefraction as \"numerator/denominator\n",
        "class Fraction:\n",
        "    \"\"\"\n",
        "    A class to represent a mathematical fraction.\n",
        "    \"\"\"\n",
        "\n",
        "    def __init__(self, numerator, denominator):\n",
        "        \"\"\"\n",
        "        Initializes a new Fraction object.\n",
        "\n",
        "        Args:\n",
        "            numerator (int): The numerator of the fraction.\n",
        "            denominator (int): The denominator of the fraction.\n",
        "        \"\"\"\n",
        "        self.numerator = numerator\n",
        "        self.denominator = denominator\n",
        "\n",
        "    def __str__(self):\n",
        "        \"\"\"\n",
        "        Overrides the default string representation of the object.\n",
        "        This method is called by the `print()` function.\n",
        "\n",
        "        Returns:\n",
        "            str: The fraction formatted as \"numerator/denominator\".\n",
        "        \"\"\"\n",
        "        return f\"{self.numerator}/{self.denominator}\"\n",
        "\n",
        "\n",
        "my_fraction = Fraction(1, 2)\n",
        "another_fraction = Fraction(3, 4)\n",
        "negative_fraction = Fraction(-5, 8)\n",
        "\n",
        "\n",
        "print(\"My first fraction is:\", my_fraction)\n",
        "print(\"Another fraction is:\", another_fraction)\n",
        "print(\"A negative fraction is:\", negative_fraction)"
      ],
      "metadata": {
        "colab": {
          "base_uri": "https://localhost:8080/"
        },
        "id": "CKGAfBGnQf7Z",
        "outputId": "ab58a581-059d-4cd1-c66c-a94f1389af86"
      },
      "execution_count": 3,
      "outputs": [
        {
          "output_type": "stream",
          "name": "stdout",
          "text": [
            "My first fraction is: 1/2\n",
            "Another fraction is: 3/4\n",
            "A negative fraction is: -5/8\n"
          ]
        }
      ]
    },
    {
      "cell_type": "code",
      "source": [
        "#Q10.Demonstrate operator overloading by creating a class Vector and overriding the add method to add twovectors.\n",
        "\"\"\"\n",
        "Demonstrating operator overloading in Python is typically done by defining special methods, such as __add__ for the addition operator (+).\n",
        "\n",
        "Here is the implementation of a Vector class that overloads the addition operator to correctly sum two vectors component-wise.\n",
        "\"\"\"\n",
        "class Vector:\n",
        "    \"\"\"\n",
        "    A simple class to represent a 2D vector.\n",
        "    \"\"\"\n",
        "\n",
        "    def __init__(self, x, y):\n",
        "        \"\"\"Initializes the vector with x and y components.\"\"\"\n",
        "        self.x = x\n",
        "        self.y = y\n",
        "\n",
        "    def __str__(self):\n",
        "        \"\"\"Provides a user-friendly string representation (e.g., (3, 4)).\"\"\"\n",
        "        return f\"({self.x}, {self.y})\"\n",
        "\n",
        "\n",
        "    def __add__(self, other):\n",
        "        \"\"\"\n",
        "        Overrides the addition operator (+) to perform vector addition.\n",
        "\n",
        "        Vector addition is performed component-wise:\n",
        "        (a, b) + (c, d) = (a + c, b + d)\n",
        "        \"\"\"\n",
        "\n",
        "        if not isinstance(other, Vector):\n",
        "            raise TypeError(\"Operand must be a Vector instance.\")\n",
        "\n",
        "\n",
        "        new_x = self.x + other.x\n",
        "        new_y = self.y + other.y\n",
        "\n",
        "\n",
        "        return Vector(new_x, new_y)\n",
        "\n",
        "\n",
        "vector1 = Vector(3, 4)\n",
        "vector2 = Vector(1, 7)\n",
        "\n",
        "print(f\"Vector 1: {vector1}\")\n",
        "print(f\"Vector 2: {vector2}\")\n",
        "\n",
        "\n",
        "vector3 = vector1 + vector2\n",
        "\n",
        "print(\"\\nPerforming addition: vector1 + vector2\")\n",
        "\n",
        "print(f\"Resultant Vector: {vector3}\") # Output: (4, 11)\n",
        "\n",
        "\n",
        "expected_x = 3 + 1  # 4\n",
        "expected_y = 4 + 7  # 11\n",
        "print(f\"Verification: ({expected_x}, {expected_y})\")"
      ],
      "metadata": {
        "colab": {
          "base_uri": "https://localhost:8080/"
        },
        "id": "iyDuHlKLQsDX",
        "outputId": "d64cfbe8-9f95-4ed9-fbda-f794fd34acdf"
      },
      "execution_count": 7,
      "outputs": [
        {
          "output_type": "stream",
          "name": "stdout",
          "text": [
            "Vector 1: (3, 4)\n",
            "Vector 2: (1, 7)\n",
            "\n",
            "Performing addition: vector1 + vector2\n",
            "Resultant Vector: (4, 11)\n",
            "Verification: (4, 11)\n"
          ]
        }
      ]
    },
    {
      "cell_type": "code",
      "source": [
        "#Q11.Create a class Person with attributes name and age. Add a method greet() that prints \"Hello, my name is{name} and I am {age} years old\n",
        "class Person:\n",
        "    \"\"\"\n",
        "    Represents a person with a name and age.\n",
        "    \"\"\"\n",
        "\n",
        "    def __init__(self, name, age):\n",
        "        \"\"\"\n",
        "        Initializes the Person object with a name and age.\n",
        "        \"\"\"\n",
        "        self.name = name\n",
        "        self.age = age\n",
        "\n",
        "    def greet(self):\n",
        "        \"\"\"\n",
        "        Prints a personalized greeting using the instance's attributes.\n",
        "        \"\"\"\n",
        "\n",
        "        print(f\"Hello, my name is {self.name} and I am {self.age} years old.\")\n",
        "\n",
        "\n",
        "\n",
        "\n",
        "person1 = Person(\"Alice\", 30)\n",
        "person2 = Person(\"Bob\", 25)\n",
        "\n",
        "\n",
        "print(\"Person 1's greeting:\")\n",
        "person1.greet()\n",
        "\n",
        "print(\"\\nPerson 2's greeting:\")\n",
        "person2.greet()"
      ],
      "metadata": {
        "colab": {
          "base_uri": "https://localhost:8080/"
        },
        "id": "J_pz-mIIQuQz",
        "outputId": "7d2d87be-6066-4f56-f274-d93ef09df2cf"
      },
      "execution_count": 21,
      "outputs": [
        {
          "output_type": "stream",
          "name": "stdout",
          "text": [
            "Person 1's greeting:\n",
            "Hello, my name is Alice and I am 30 years old.\n",
            "\n",
            "Person 2's greeting:\n",
            "Hello, my name is Bob and I am 25 years old.\n"
          ]
        }
      ]
    },
    {
      "cell_type": "code",
      "source": [
        "#Q12. Implement a class Student with attributes name and grades. Create a method average_grade() to computethe average of the grades\n",
        "class Student:\n",
        "    \"\"\"\n",
        "    A class to represent a student, storing their name and a list of grades.\n",
        "    \"\"\"\n",
        "\n",
        "    def __init__(self, name, grades):\n",
        "        \"\"\"\n",
        "        Initializes the Student object.\n",
        "\n",
        "        Args:\n",
        "            name (str): The name of the student.\n",
        "            grades (list of numbers): A list containing the student's grades.\n",
        "        \"\"\"\n",
        "        self.name = name\n",
        "        self.grades = grades\n",
        "\n",
        "    def average_grade(self):\n",
        "        \"\"\"\n",
        "        Computes the average grade of the student from their list of grades.\n",
        "\n",
        "        Returns:\n",
        "            float: The calculated average grade. Returns 0.0 if the grades list is empty.\n",
        "        \"\"\"\n",
        "\n",
        "        if not self.grades:\n",
        "            return 0.0\n",
        "\n",
        "\n",
        "        total_sum = sum(self.grades)\n",
        "\n",
        "\n",
        "        count = len(self.grades)\n",
        "\n",
        "\n",
        "        return total_sum / count\n",
        "\n",
        "\n",
        "\n",
        "\n",
        "student_a = Student(\"Elara Vance\", [85, 92, 78, 95])\n",
        "student_b = Student(\"Kai Lee\", [60, 70, 80])\n",
        "student_c = Student(\"Empty Roster\", [])\n",
        "\n",
        "\n",
        "print(f\"{student_a.name}'s grades: {student_a.grades}\")\n",
        "print(f\"Average Grade for {student_a.name}: {student_a.average_grade():.2f}\") # Output: 87.50\n",
        "\n",
        "print(f\"\\n{student_b.name}'s grades: {student_b.grades}\")\n",
        "print(f\"Average Grade for {student_b.name}: {student_b.average_grade():.2f}\") # Output: 70.00\n",
        "\n",
        "print(f\"\\n{student_c.name}'s grades: {student_c.grades}\")\n",
        "print(f\"Average Grade for {student_c.name}: {student_c.average_grade():.2f}\") # Output: 0.00 (Handles empty list)"
      ],
      "metadata": {
        "colab": {
          "base_uri": "https://localhost:8080/"
        },
        "id": "mC2sD8GKQvAE",
        "outputId": "3674fc19-7661-4879-bd69-5bf276d841df"
      },
      "execution_count": 20,
      "outputs": [
        {
          "output_type": "stream",
          "name": "stdout",
          "text": [
            "Elara Vance's grades: [85, 92, 78, 95]\n",
            "Average Grade for Elara Vance: 87.50\n",
            "\n",
            "Kai Lee's grades: [60, 70, 80]\n",
            "Average Grade for Kai Lee: 70.00\n",
            "\n",
            "Empty Roster's grades: []\n",
            "Average Grade for Empty Roster: 0.00\n"
          ]
        }
      ]
    },
    {
      "cell_type": "code",
      "source": [
        "#Q13.Create a class Rectangle with methods set_dimensions() to set the dimensions and area() to calculate the area.\n",
        "class Rectangle:\n",
        "    \"\"\"\n",
        "    A class to represent a rectangle, allowing setting of dimensions and calculation of its area.\n",
        "    \"\"\"\n",
        "\n",
        "    def __init__(self):\n",
        "        \"\"\"\n",
        "        Initializes the Rectangle with default dimensions.\n",
        "        \"\"\"\n",
        "        self.length = 0\n",
        "        self.width = 0\n",
        "\n",
        "    def set_dimensions(self, length, width):\n",
        "        \"\"\"\n",
        "        Sets the length and width of the rectangle.\n",
        "\n",
        "        Args:\n",
        "            length (float or int): The length of the rectangle.\n",
        "            width (float or int): The width of the rectangle.\n",
        "        \"\"\"\n",
        "        if length < 0 or width < 0:\n",
        "            raise ValueError(\"Dimensions must be non-negative.\")\n",
        "\n",
        "        self.length = length\n",
        "        self.width = width\n",
        "        print(f\"Dimensions set to: Length={self.length}, Width={self.width}\")\n",
        "\n",
        "    def area(self):\n",
        "        \"\"\"\n",
        "        Calculates the area of the rectangle (length * width).\n",
        "\n",
        "        Returns:\n",
        "            float or int: The area of the rectangle.\n",
        "        \"\"\"\n",
        "        return self.length * self.width\n",
        "\n",
        "# --- Demonstration ---\n",
        "\n",
        "# 1. Create a Rectangle object\n",
        "rect1 = Rectangle()\n",
        "print(f\"Initial Area (before setting dimensions): {rect1.area()}\")\n",
        "\n",
        "# 2. Set the dimensions using the set_dimensions() method\n",
        "rect1.set_dimensions(10.5, 5)\n",
        "\n",
        "# 3. Calculate and print the area using the area() method\n",
        "calculated_area = rect1.area()\n",
        "print(f\"The length is {rect1.length} and the width is {rect1.width}.\")\n",
        "print(f\"The calculated area is: {calculated_area}\")\n",
        "\n",
        "# Another example\n",
        "rect2 = Rectangle()\n",
        "rect2.set_dimensions(7, 7)\n",
        "print(f\"The area of rect2 (a square) is: {rect2.area()}\")"
      ],
      "metadata": {
        "id": "iH4Fk_0kQvq3"
      },
      "execution_count": null,
      "outputs": []
    },
    {
      "cell_type": "code",
      "source": [
        "#Q14.Create a class Employee with a method calculate_salary() that computes the salary based on hours worked and hourly rate. Create a derived class Manager that adds a bonus to the salary\n",
        "class Employee:\n",
        "    \"\"\"\n",
        "    Base class representing a general employee.\n",
        "    \"\"\"\n",
        "    def __init__(self, name, hourly_rate, hours_worked):\n",
        "        \"\"\"Initializes the employee with basic payroll data.\"\"\"\n",
        "        self.name = name\n",
        "        self.hourly_rate = hourly_rate\n",
        "        self.hours_worked = hours_worked\n",
        "\n",
        "    def calculate_salary(self):\n",
        "        \"\"\"\n",
        "        Calculates the base salary (hours worked * hourly rate).\n",
        "        \"\"\"\n",
        "        base_salary = self.hours_worked * self.hourly_rate\n",
        "        print(f\"--- {self.name}'s Salary Details ---\")\n",
        "        print(f\"Base Salary: ${base_salary:.2f}\")\n",
        "        return base_salary"
      ],
      "metadata": {
        "id": "7JKxkcrrQv_a"
      },
      "execution_count": null,
      "outputs": []
    },
    {
      "cell_type": "code",
      "source": [
        "#Q15.  Create a class Product with attributes name, price, and quantity. Implement a method total_price() that calculates the total price of the product.\n",
        "class Product:\n",
        "    \"\"\"\n",
        "    Represents a product in an inventory with a unit price and quantity.\n",
        "    \"\"\"\n",
        "\n",
        "    def __init__(self, name, price, quantity):\n",
        "        \"\"\"\n",
        "        Initializes the Product object with its name, unit price, and quantity.\n",
        "        \"\"\"\n",
        "        self.name = name\n",
        "        self.price = price      # The unit price\n",
        "        self.quantity = quantity # The number of items\n",
        "\n",
        "    def total_price(self):\n",
        "        \"\"\"\n",
        "        Calculates the total cost for the current quantity of the product.\n",
        "        Formula: price * quantity\n",
        "\n",
        "        Returns:\n",
        "            float: The total price.\n",
        "        \"\"\"\n",
        "        return self.price * self.quantity\n",
        "\n",
        "\n",
        "keyboard = Product(\"Mechanical Keyboard\", 125.50, 2)\n",
        "monitor = Product(\"4K Monitor\", 350.00, 1)\n",
        "\n",
        "\n",
        "print(f\"Product: {keyboard.name}\")\n",
        "print(f\"Quantity: {keyboard.quantity} @ ${keyboard.price:.2f} each\")\n",
        "print(f\"Total Cost: ${keyboard.total_price():.2f}\") # Output: $251.00\n",
        "\n",
        "print(\"-\" * 30)\n",
        "\n",
        "print(f\"Product: {monitor.name}\")\n",
        "print(f\"Quantity: {monitor.quantity} @ ${monitor.price:.2f} each\")\n",
        "print(f\"Total Cost: ${monitor.total_price():.2f}\") # Output: $350.00"
      ],
      "metadata": {
        "colab": {
          "base_uri": "https://localhost:8080/"
        },
        "id": "eSYb3T-rQwHd",
        "outputId": "a1553887-9fad-48ee-b696-035ba77eac41"
      },
      "execution_count": 19,
      "outputs": [
        {
          "output_type": "stream",
          "name": "stdout",
          "text": [
            "Product: Mechanical Keyboard\n",
            "Quantity: 2 @ $125.50 each\n",
            "Total Cost: $251.00\n",
            "------------------------------\n",
            "Product: 4K Monitor\n",
            "Quantity: 1 @ $350.00 each\n",
            "Total Cost: $350.00\n"
          ]
        }
      ]
    },
    {
      "cell_type": "code",
      "source": [
        "#Q16. Create a class Animal with an abstract method sound(). Create two derived classes Cow and Sheep that implement the sound() method.\n",
        "#This is an excellent example of using Abstract Base Classes (ABCs) in Python to enforce a contract across related classes.\n",
        "\n",
        "#To create an abstract method, we need to import the ABC class and the abstractmethod decorator from the abc module.\n",
        "\n",
        "#Python\n",
        "\n",
        "from abc import ABC, abstractmethod\n",
        "\n",
        "\n",
        "class Animal(ABC):\n",
        "    \"\"\"\n",
        "    An Abstract Base Class defining the structure for all animals.\n",
        "    It enforces that all derived classes must implement the sound() method.\n",
        "    \"\"\"\n",
        "\n",
        "    @abstractmethod\n",
        "    def sound(self):\n",
        "        \"\"\"\n",
        "        Abstract method. Derived classes must implement this to return the animal's sound.\n",
        "        \"\"\"\n",
        "        pass\n",
        "\n",
        "\n",
        "class Cow(Animal):\n",
        "    \"\"\"\n",
        "    A concrete implementation of Animal.\n",
        "    \"\"\"\n",
        "    def sound(self):\n",
        "        \"\"\"\n",
        "        Implements the abstract sound() method for a Cow.\n",
        "        \"\"\"\n",
        "        return \"Moo! 🐄\"\n",
        "\n",
        "\n",
        "class Sheep(Animal):\n",
        "    \"\"\"\n",
        "    A concrete implementation of Animal.\n",
        "    \"\"\"\n",
        "    def sound(self):\n",
        "        \"\"\"\n",
        "        Implements the abstract sound() method for a Sheep.\n",
        "        \"\"\"\n",
        "        return \"Baa! \"\n",
        "\n",
        "\n",
        "\n",
        "\n",
        "cow = Cow()\n",
        "sheep = Sheep()\n",
        "\n",
        "print(f\"The Cow says: {cow.sound()}\")\n",
        "print(f\"The Sheep says: {sheep.sound()}\")\n",
        "\n",
        "\n",
        "try:\n",
        "    abstract_animal = Animal()\n",
        "except TypeError as e:\n",
        "    print(\"\\n--- Abstract Class Instantiation Test ---\")\n",
        "    print(f\"Error when trying to instantiate Animal: {e}\")\n",
        ""
      ],
      "metadata": {
        "colab": {
          "base_uri": "https://localhost:8080/"
        },
        "id": "pUFx2ekjQwOO",
        "outputId": "102ba590-7f0d-4533-ad98-60f045836db8"
      },
      "execution_count": 18,
      "outputs": [
        {
          "output_type": "stream",
          "name": "stdout",
          "text": [
            "The Cow says: Moo! 🐄\n",
            "The Sheep says: Baa! \n",
            "\n",
            "--- Abstract Class Instantiation Test ---\n",
            "Error when trying to instantiate Animal: Can't instantiate abstract class Animal without an implementation for abstract method 'sound'\n"
          ]
        }
      ]
    },
    {
      "cell_type": "code",
      "source": [
        "#Q17. Create a class Book with attributes title, author, and year_published. Add a method get_book_info() that returns a formatted string with the book's details.\n",
        "class Book:\n",
        "    \"\"\"\n",
        "    A class to represent a book with title, author, and year of publication.\n",
        "    \"\"\"\n",
        "\n",
        "    def __init__(self, title, author, year_published):\n",
        "        \"\"\"\n",
        "        Initializes the Book object with required attributes.\n",
        "        \"\"\"\n",
        "        self.title = title\n",
        "        self.author = author\n",
        "        self.year_published = year_published\n",
        "\n",
        "    def get_book_info(self):\n",
        "        \"\"\"\n",
        "        Returns a formatted string containing all the book's details.\n",
        "\n",
        "        Returns:\n",
        "            str: A detailed description of the book.\n",
        "        \"\"\"\n",
        "        return f\"Title: '{self.title}' | Author: {self.author} | Published: {self.year_published}\"\n",
        "\n",
        "\n",
        "\n",
        "\n",
        "book1 = Book(\"The Great Gatsby\", \"F. Scott Fitzgerald\", 1925)\n",
        "book2 = Book(\"To Kill a Mockingbird\", \"Harper Lee\", 1960)\n",
        "\n",
        "\n",
        "info1 = book1.get_book_info()\n",
        "info2 = book2.get_book_info()\n",
        "\n",
        "print(\"Book 1 Details:\")\n",
        "print(info1)\n",
        "\n",
        "print(\"\\nBook 2 Details:\")\n",
        "print(info2)"
      ],
      "metadata": {
        "colab": {
          "base_uri": "https://localhost:8080/"
        },
        "id": "zjiA1Q0sQwdB",
        "outputId": "d29eaa02-633a-440b-ea06-89ce3d593cde"
      },
      "execution_count": 17,
      "outputs": [
        {
          "output_type": "stream",
          "name": "stdout",
          "text": [
            "Book 1 Details:\n",
            "Title: 'The Great Gatsby' | Author: F. Scott Fitzgerald | Published: 1925\n",
            "\n",
            "Book 2 Details:\n",
            "Title: 'To Kill a Mockingbird' | Author: Harper Lee | Published: 1960\n"
          ]
        }
      ]
    },
    {
      "cell_type": "code",
      "source": [
        "#Q18. Create a class House with attributes address and price. Create a derived class Mansion that adds an attribute number_of_rooms.\n",
        "class Mansion(House):\n",
        "    \"\"\"\n",
        "    Derived class representing a mansion, which includes the number of rooms.\n",
        "    \"\"\"\n",
        "    def __init__(self, address, price, number_of_rooms):\n",
        "        \"\"\"Initializes the Mansion, calling the parent's constructor first.\"\"\"\n",
        "\n",
        "        super().__init__(address, price)\n",
        "\n",
        "\n",
        "        self.number_of_rooms = number_of_rooms\n",
        "\n",
        "    def get_info(self):\n",
        "        \"\"\"\n",
        "        Overrides the parent method to include the number of rooms in the summary.\n",
        "        \"\"\"\n",
        "\n",
        "        base_info = super().get_info()\n",
        "\n",
        "\n",
        "        return f\"{base_info}, Rooms: {self.number_of_rooms}\"\n",
        "\n",
        "\n",
        "house1 = House(\"123 Elm St\", 350000)\n",
        "print(\"House Details:\", house1.get_info())\n",
        "\n",
        "\n",
        "mansion1 = Mansion(\"789 Grand Blvd\", 5200000, 15)\n",
        "print(\"Mansion Details:\", mansion1.get_info())\n"
      ],
      "metadata": {
        "colab": {
          "base_uri": "https://localhost:8080/"
        },
        "id": "iGbBbVcsQxg8",
        "outputId": "be812abb-b07b-4b70-a899-b93c844f5bc0"
      },
      "execution_count": 16,
      "outputs": [
        {
          "output_type": "stream",
          "name": "stdout",
          "text": [
            "House Details: Address: 123 Elm St, Price: $350,000.00\n",
            "Mansion Details: Address: 789 Grand Blvd, Price: $5,200,000.00, Rooms: 15\n"
          ]
        }
      ]
    }
  ]
}